{
  "nbformat": 4,
  "nbformat_minor": 0,
  "metadata": {
    "colab": {
      "provenance": [],
      "authorship_tag": "ABX9TyNqJB0ybagItljP0iAuxnzk",
      "include_colab_link": true
    },
    "kernelspec": {
      "name": "python3",
      "display_name": "Python 3"
    },
    "language_info": {
      "name": "python"
    }
  },
  "cells": [
    {
      "cell_type": "markdown",
      "metadata": {
        "id": "view-in-github",
        "colab_type": "text"
      },
      "source": [
        "<a href=\"https://colab.research.google.com/github/mydesemberevil/freecodecamp_medical_data_visualizer/blob/main/Medical_data_Visualizer.ipynb\" target=\"_parent\"><img src=\"https://colab.research.google.com/assets/colab-badge.svg\" alt=\"Open In Colab\"/></a>"
      ]
    },
    {
      "cell_type": "code",
      "execution_count": 6,
      "metadata": {
        "id": "oVw2NjsNdj9z"
      },
      "outputs": [],
      "source": [
        "import matplotlib.pyplot as plt\n",
        "import numpy as np\n",
        "import pandas as pd\n",
        "import seaborn as sns\n",
        "\n",
        "# Import data\n",
        "df = pd.read_csv('medical_examination.csv')\n",
        "\n",
        "# Add 'overweight' column\n",
        "# Add 'overweight' column\n",
        "df['overweight'] = (df['weight'] / (df['height'] / 100) ** 2 > 25).astype(int)\n",
        "\n",
        "# Normalize data by making 0 always good and 1 always bad. If the value of 'cholestorol' or 'gluc' is 1,\n",
        "# make the value 0. If the value is more than 1, make the value 1.\n",
        "df['cholesterol'] = (df['cholesterol'] > 1).astype(int)\n",
        "df['gluc'] = (df['gluc'] > 1).astype(int)\n",
        "\n",
        "\n",
        "# Draw Categorical Plot\n",
        "def draw_cat_plot():\n",
        "    # Create DataFrame for cat plot using `pd.melt` using just the values from 'cholesterol', 'gluc', 'smoke',\n",
        "    # 'alco', 'active', and 'overweight'.\n",
        "    df_cat = pd.melt(df, id_vars=['cardio'],\n",
        "                     value_vars=['cholesterol', 'gluc', 'smoke', 'alco', 'active', 'overweight'])\n",
        "\n",
        "    # Group and reformat the data to split it by 'cardio'. Show the counts of each feature. You will have to rename\n",
        "    # one of the collumns for the catplot to work correctly.\n",
        "    df_cat = df_cat.groupby(['cardio', 'variable', 'value']).size().reset_index()\n",
        "    df_cat = df_cat.rename(columns={0: 'total'})\n",
        "\n",
        "    # Draw the catplot with 'sns.catplot()'\n",
        "    graph = sns.catplot(data=df_cat, kind=\"bar\", x=\"variable\", y=\"total\", hue=\"value\", col=\"cardio\")\n",
        "    fig = graph.fig\n",
        "\n",
        "    # Do not modify the next two lines\n",
        "    fig.savefig('catplot.png')\n",
        "    return fig\n",
        "\n",
        "\n",
        "# Draw Heat Map\n",
        "def draw_heat_map():\n",
        "    # Clean the data\n",
        "    df_heat = df[(df['ap_lo'] <= df['ap_hi']) &\n",
        "                 (df['height'] >= df['height'].quantile(0.025)) &\n",
        "                 (df['height'] <= df['height'].quantile(0.975)) &\n",
        "                 (df['weight'] >= df['weight'].quantile(0.025)) &\n",
        "                 (df['weight'] <= df['weight'].quantile(0.975))\n",
        "                 ]\n",
        "\n",
        "    # Calculate the correlation matrix\n",
        "    corr = df_heat.corr()\n",
        "\n",
        "    # Generate a mask for the upper triangle\n",
        "    mask = np.triu(np.ones_like(corr, dtype=bool))\n",
        "\n",
        "    # Set up the matplotlib figure\n",
        "    fig, ax = plt.subplots(figsize=(16, 9))\n",
        "\n",
        "    # Draw the heatmap with 'sns.heatmap()'\n",
        "    sns.heatmap(corr, mask=mask, square=True, linewidths=0.5, annot=True, fmt=\"0.1f\")\n",
        "\n",
        "    # Do not modify the next two lines\n",
        "    fig.savefig('heatmap.png')\n",
        "    return fig"
      ]
    }
  ]
}